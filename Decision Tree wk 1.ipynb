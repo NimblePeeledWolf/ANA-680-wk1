{
 "cells": [
  {
   "cell_type": "markdown",
   "id": "391f620b",
   "metadata": {},
   "source": [
    "Load in data and functionality"
   ]
  },
  {
   "cell_type": "code",
   "execution_count": 11,
   "id": "85299c22",
   "metadata": {},
   "outputs": [],
   "source": [
    "import pandas as pd\n",
    "import numpy as np\n",
    "from sklearn.tree import DecisionTreeClassifier, DecisionTreeRegressor\n",
    "from sklearn.ensemble import RandomForestClassifier, GradientBoostingClassifier\n",
    "from sklearn.model_selection import train_test_split, cross_val_score, GridSearchCV\n",
    "import matplotlib.pylab as plt\n",
    "from dmba import plotDecisionTree, classificationSummary, regressionSummary\n",
    "from sklearn.metrics import classification_report, accuracy_score, confusion_matrix"
   ]
  },
  {
   "cell_type": "code",
   "execution_count": 2,
   "id": "758703bc",
   "metadata": {},
   "outputs": [
    {
     "name": "stdout",
     "output_type": "stream",
     "text": [
      "{'uci_id': 15, 'name': 'Breast Cancer Wisconsin (Original)', 'repository_url': 'https://archive.ics.uci.edu/dataset/15/breast+cancer+wisconsin+original', 'data_url': 'https://archive.ics.uci.edu/static/public/15/data.csv', 'abstract': 'Original Wisconsin Breast Cancer Database', 'area': 'Health and Medicine', 'tasks': ['Classification'], 'characteristics': ['Multivariate'], 'num_instances': 699, 'num_features': 9, 'feature_types': ['Integer'], 'demographics': [], 'target_col': ['Class'], 'index_col': ['Sample_code_number'], 'has_missing_values': 'yes', 'missing_values_symbol': 'NaN', 'year_of_dataset_creation': 1990, 'last_updated': 'Sun Mar 10 2024', 'dataset_doi': '10.24432/C5HP4Z', 'creators': ['WIlliam Wolberg'], 'intro_paper': None, 'additional_info': {'summary': \"Samples arrive periodically as Dr. Wolberg reports his clinical cases. The database therefore reflects this chronological grouping of the data. This grouping information appears immediately below, having been removed from the data itself:\\r\\n\\r\\nGroup 1: 367 instances (January 1989)\\r\\nGroup 2:  70 instances (October 1989)\\r\\nGroup 3:  31 instances (February 1990)\\r\\nGroup 4:  17 instances (April 1990)\\r\\nGroup 5:  48 instances (August 1990)\\r\\nGroup 6:  49 instances (Updated January 1991)\\r\\nGroup 7:  31 instances (June 1991)\\r\\nGroup 8:  86 instances (November 1991)\\r\\n-----------------------------------------\\r\\nTotal:   699 points (as of the donated datbase on 15 July 1992)\\r\\n\\r\\nNote that the results summarized above in Past Usage refer to a dataset of size 369, while Group 1 has only 367 instances.  This is because it originally contained 369 instances; 2 were removed.  The following statements summarizes changes to the original Group 1's set of data:\\r\\n\\r\\n#####  Group 1 : 367 points: 200B 167M (January 1989)\\r\\n\\r\\n#####  Revised Jan 10, 1991: Replaced zero bare nuclei in 1080185 & 1187805\\r\\n\\r\\n#####  Revised Nov 22,1991: Removed 765878,4,5,9,7,10,10,10,3,8,1 no record\\r\\n#####                  : Removed 484201,2,7,8,8,4,3,10,3,4,1 zero epithelial\\r\\n#####                  : Changed 0 to 1 in field 6 of sample 1219406\\r\\n#####                  : Changed 0 to 1 in field 8 of following sample:\\r\\n#####                  : 1182404,2,3,1,1,1,2,0,1,1,1\", 'purpose': None, 'funded_by': None, 'instances_represent': None, 'recommended_data_splits': None, 'sensitive_data': None, 'preprocessing_description': None, 'variable_info': '1. Sample code number:            id number\\r\\n2. Clump Thickness:               1 - 10\\r\\n3. Uniformity of Cell Size:       1 - 10\\r\\n4. Uniformity of Cell Shape:      1 - 10\\r\\n5. Marginal Adhesion:             1 - 10\\r\\n6. Single Epithelial Cell Size:   1 - 10\\r\\n7. Bare Nuclei:                   1 - 10\\r\\n8. Bland Chromatin:               1 - 10\\r\\n9. Normal Nucleoli:               1 - 10\\r\\n10. Mitoses:                       1 - 10\\r\\n11. Class:                        (2 for benign, 4 for malignant)', 'citation': 'This breast cancer databases was obtained from the University of Wisconsin Hospitals, Madison from Dr. William H. Wolberg.  If you publish results when using this database, then please include this information in your acknowledgements.  Also, please cite one or more of:\\n1. O. L. Mangasarian and W. H. Wolberg: \"Cancer diagnosis via linear programming\", SIAM News, Volume 23, Number 5, September 1990, pp 1 & 18.\\n2. William H. Wolberg and O.L. Mangasarian: \"Multisurface method of pattern separation for medical diagnosis applied to breast cytology\", Proceedings of the National Academy of Sciences, U.S.A., Volume 87, December 1990, pp 9193-9196.\\n3. O. L. Mangasarian, R. Setiono, and W.H. Wolberg: \"Pattern recognition via linear programming: Theory and application to medical diagnosis\", in: \"Large-scale numerical optimization\", Thomas F. Coleman and Yuying Li, editors, SIAM Publications, Philadelphia 1990, pp 22-30.\\n4. K. P. Bennett & O. L. Mangasarian: \"Robust linear programming discrimination of two linearly inseparable sets\", Optimization Methods and Software 1, 1992, 23-34 (Gordon & Breach Science Publishers).'}}\n",
      "                           name     role         type demographic  \\\n",
      "0            Sample_code_number       ID  Categorical        None   \n",
      "1               Clump_thickness  Feature      Integer        None   \n",
      "2       Uniformity_of_cell_size  Feature      Integer        None   \n",
      "3      Uniformity_of_cell_shape  Feature      Integer        None   \n",
      "4             Marginal_adhesion  Feature      Integer        None   \n",
      "5   Single_epithelial_cell_size  Feature      Integer        None   \n",
      "6                   Bare_nuclei  Feature      Integer        None   \n",
      "7               Bland_chromatin  Feature      Integer        None   \n",
      "8               Normal_nucleoli  Feature      Integer        None   \n",
      "9                       Mitoses  Feature      Integer        None   \n",
      "10                        Class   Target       Binary        None   \n",
      "\n",
      "                  description units missing_values  \n",
      "0                        None  None             no  \n",
      "1                        None  None             no  \n",
      "2                        None  None             no  \n",
      "3                        None  None             no  \n",
      "4                        None  None             no  \n",
      "5                        None  None             no  \n",
      "6                        None  None            yes  \n",
      "7                        None  None             no  \n",
      "8                        None  None             no  \n",
      "9                        None  None             no  \n",
      "10  2 = benign, 4 = malignant  None             no  \n"
     ]
    }
   ],
   "source": [
    "import pandas as pd\n",
    "from sklearn.model_selection import train_test_split\n",
    "\n",
    "\n",
    "from ucimlrepo import fetch_ucirepo \n",
    "  \n",
    "# fetch dataset \n",
    "breast_cancer_wisconsin_original = fetch_ucirepo(id=15) \n",
    "  \n",
    "# data (as pandas dataframes) \n",
    "x = breast_cancer_wisconsin_original.data.features \n",
    "y = breast_cancer_wisconsin_original.data.targets \n",
    "  \n",
    "# metadata \n",
    "print(breast_cancer_wisconsin_original.metadata) \n",
    "  \n",
    "# variable information \n",
    "print(breast_cancer_wisconsin_original.variables) \n"
   ]
  },
  {
   "cell_type": "code",
   "execution_count": 3,
   "id": "4f213b17",
   "metadata": {},
   "outputs": [
    {
     "data": {
      "text/plain": [
       "Clump_thickness                0\n",
       "Uniformity_of_cell_size        0\n",
       "Uniformity_of_cell_shape       0\n",
       "Marginal_adhesion              0\n",
       "Single_epithelial_cell_size    0\n",
       "Bare_nuclei                    0\n",
       "Bland_chromatin                0\n",
       "Normal_nucleoli                0\n",
       "Mitoses                        0\n",
       "dtype: int64"
      ]
     },
     "execution_count": 3,
     "metadata": {},
     "output_type": "execute_result"
    }
   ],
   "source": [
    "from sklearn.impute import KNNImputer\n",
    "data_c = x.copy()\n",
    "imputer = KNNImputer(n_neighbors=25)\n",
    "data_imputed = imputer.fit_transform(data_c)\n",
    "data_imputed=pd.DataFrame(data_imputed,columns=data_c.columns)\n",
    "data_imputed.isna().sum()"
   ]
  },
  {
   "cell_type": "code",
   "execution_count": 4,
   "id": "15850826",
   "metadata": {},
   "outputs": [],
   "source": [
    "x=data_imputed"
   ]
  },
  {
   "cell_type": "markdown",
   "id": "15ae3d7c",
   "metadata": {},
   "source": [
    "Split data"
   ]
  },
  {
   "cell_type": "code",
   "execution_count": 5,
   "id": "14a3511a",
   "metadata": {},
   "outputs": [],
   "source": [
    "x_train,x_test,y_train,y_test = train_test_split(x,y,test_size=0.25, random_state=42)"
   ]
  },
  {
   "cell_type": "markdown",
   "id": "dad9fb75",
   "metadata": {},
   "source": [
    "Build and train the Decistion tree model"
   ]
  },
  {
   "cell_type": "code",
   "execution_count": 7,
   "id": "273cf25c",
   "metadata": {},
   "outputs": [
    {
     "data": {
      "text/html": [
       "<style>#sk-container-id-1 {color: black;}#sk-container-id-1 pre{padding: 0;}#sk-container-id-1 div.sk-toggleable {background-color: white;}#sk-container-id-1 label.sk-toggleable__label {cursor: pointer;display: block;width: 100%;margin-bottom: 0;padding: 0.3em;box-sizing: border-box;text-align: center;}#sk-container-id-1 label.sk-toggleable__label-arrow:before {content: \"▸\";float: left;margin-right: 0.25em;color: #696969;}#sk-container-id-1 label.sk-toggleable__label-arrow:hover:before {color: black;}#sk-container-id-1 div.sk-estimator:hover label.sk-toggleable__label-arrow:before {color: black;}#sk-container-id-1 div.sk-toggleable__content {max-height: 0;max-width: 0;overflow: hidden;text-align: left;background-color: #f0f8ff;}#sk-container-id-1 div.sk-toggleable__content pre {margin: 0.2em;color: black;border-radius: 0.25em;background-color: #f0f8ff;}#sk-container-id-1 input.sk-toggleable__control:checked~div.sk-toggleable__content {max-height: 200px;max-width: 100%;overflow: auto;}#sk-container-id-1 input.sk-toggleable__control:checked~label.sk-toggleable__label-arrow:before {content: \"▾\";}#sk-container-id-1 div.sk-estimator input.sk-toggleable__control:checked~label.sk-toggleable__label {background-color: #d4ebff;}#sk-container-id-1 div.sk-label input.sk-toggleable__control:checked~label.sk-toggleable__label {background-color: #d4ebff;}#sk-container-id-1 input.sk-hidden--visually {border: 0;clip: rect(1px 1px 1px 1px);clip: rect(1px, 1px, 1px, 1px);height: 1px;margin: -1px;overflow: hidden;padding: 0;position: absolute;width: 1px;}#sk-container-id-1 div.sk-estimator {font-family: monospace;background-color: #f0f8ff;border: 1px dotted black;border-radius: 0.25em;box-sizing: border-box;margin-bottom: 0.5em;}#sk-container-id-1 div.sk-estimator:hover {background-color: #d4ebff;}#sk-container-id-1 div.sk-parallel-item::after {content: \"\";width: 100%;border-bottom: 1px solid gray;flex-grow: 1;}#sk-container-id-1 div.sk-label:hover label.sk-toggleable__label {background-color: #d4ebff;}#sk-container-id-1 div.sk-serial::before {content: \"\";position: absolute;border-left: 1px solid gray;box-sizing: border-box;top: 0;bottom: 0;left: 50%;z-index: 0;}#sk-container-id-1 div.sk-serial {display: flex;flex-direction: column;align-items: center;background-color: white;padding-right: 0.2em;padding-left: 0.2em;position: relative;}#sk-container-id-1 div.sk-item {position: relative;z-index: 1;}#sk-container-id-1 div.sk-parallel {display: flex;align-items: stretch;justify-content: center;background-color: white;position: relative;}#sk-container-id-1 div.sk-item::before, #sk-container-id-1 div.sk-parallel-item::before {content: \"\";position: absolute;border-left: 1px solid gray;box-sizing: border-box;top: 0;bottom: 0;left: 50%;z-index: -1;}#sk-container-id-1 div.sk-parallel-item {display: flex;flex-direction: column;z-index: 1;position: relative;background-color: white;}#sk-container-id-1 div.sk-parallel-item:first-child::after {align-self: flex-end;width: 50%;}#sk-container-id-1 div.sk-parallel-item:last-child::after {align-self: flex-start;width: 50%;}#sk-container-id-1 div.sk-parallel-item:only-child::after {width: 0;}#sk-container-id-1 div.sk-dashed-wrapped {border: 1px dashed gray;margin: 0 0.4em 0.5em 0.4em;box-sizing: border-box;padding-bottom: 0.4em;background-color: white;}#sk-container-id-1 div.sk-label label {font-family: monospace;font-weight: bold;display: inline-block;line-height: 1.2em;}#sk-container-id-1 div.sk-label-container {text-align: center;}#sk-container-id-1 div.sk-container {/* jupyter's `normalize.less` sets `[hidden] { display: none; }` but bootstrap.min.css set `[hidden] { display: none !important; }` so we also need the `!important` here to be able to override the default hidden behavior on the sphinx rendered scikit-learn.org. See: https://github.com/scikit-learn/scikit-learn/issues/21755 */display: inline-block !important;position: relative;}#sk-container-id-1 div.sk-text-repr-fallback {display: none;}</style><div id=\"sk-container-id-1\" class=\"sk-top-container\"><div class=\"sk-text-repr-fallback\"><pre>DecisionTreeClassifier(random_state=42)</pre><b>In a Jupyter environment, please rerun this cell to show the HTML representation or trust the notebook. <br />On GitHub, the HTML representation is unable to render, please try loading this page with nbviewer.org.</b></div><div class=\"sk-container\" hidden><div class=\"sk-item\"><div class=\"sk-estimator sk-toggleable\"><input class=\"sk-toggleable__control sk-hidden--visually\" id=\"sk-estimator-id-1\" type=\"checkbox\" checked><label for=\"sk-estimator-id-1\" class=\"sk-toggleable__label sk-toggleable__label-arrow\">DecisionTreeClassifier</label><div class=\"sk-toggleable__content\"><pre>DecisionTreeClassifier(random_state=42)</pre></div></div></div></div></div>"
      ],
      "text/plain": [
       "DecisionTreeClassifier(random_state=42)"
      ]
     },
     "execution_count": 7,
     "metadata": {},
     "output_type": "execute_result"
    }
   ],
   "source": [
    "treeClassifier = DecisionTreeClassifier(random_state = 42)\n",
    "treeClassifier.fit(x_train,y_train)"
   ]
  },
  {
   "cell_type": "markdown",
   "id": "21922632",
   "metadata": {},
   "source": [
    "Evaluate the model"
   ]
  },
  {
   "cell_type": "code",
   "execution_count": 14,
   "id": "9557aeef",
   "metadata": {},
   "outputs": [
    {
     "name": "stdout",
     "output_type": "stream",
     "text": [
      "Training Accuracy: 1.0\n",
      "Validation Accuracy: 0.9542857142857143\n",
      "Training Classification Report:\n",
      "               precision    recall  f1-score   support\n",
      "\n",
      "           2       1.00      1.00      1.00       340\n",
      "           4       1.00      1.00      1.00       184\n",
      "\n",
      "    accuracy                           1.00       524\n",
      "   macro avg       1.00      1.00      1.00       524\n",
      "weighted avg       1.00      1.00      1.00       524\n",
      "\n",
      "Validation Classification Report:\n",
      "               precision    recall  f1-score   support\n",
      "\n",
      "           2       0.97      0.97      0.97       118\n",
      "           4       0.93      0.93      0.93        57\n",
      "\n",
      "    accuracy                           0.95       175\n",
      "   macro avg       0.95      0.95      0.95       175\n",
      "weighted avg       0.95      0.95      0.95       175\n",
      "\n",
      "Training Confusion Matrix:\n",
      " [[340   0]\n",
      " [  0 184]]\n",
      "Validation Confusion Matrix:\n",
      " [[114   4]\n",
      " [  4  53]]\n"
     ]
    }
   ],
   "source": [
    "train_pred = treeClassifier.predict(x_train)\n",
    "valid_pred = treeClassifier.predict(x_test)\n",
    "\n",
    "print(\"Training Accuracy:\", accuracy_score(y_train, train_pred))\n",
    "print(\"Validation Accuracy:\", accuracy_score(y_test, valid_pred))\n",
    "\n",
    "print(\"Training Classification Report:\\n\", classification_report(y_train, train_pred))\n",
    "print(\"Validation Classification Report:\\n\", classification_report(y_test, valid_pred))\n",
    "\n",
    "print(\"Training Confusion Matrix:\\n\", confusion_matrix(y_train, train_pred))\n",
    "print(\"Validation Confusion Matrix:\\n\", confusion_matrix(y_test, valid_pred))"
   ]
  },
  {
   "cell_type": "code",
   "execution_count": null,
   "id": "a1f63f91",
   "metadata": {},
   "outputs": [],
   "source": []
  }
 ],
 "metadata": {
  "kernelspec": {
   "display_name": "Python 3 (ipykernel)",
   "language": "python",
   "name": "python3"
  },
  "language_info": {
   "codemirror_mode": {
    "name": "ipython",
    "version": 3
   },
   "file_extension": ".py",
   "mimetype": "text/x-python",
   "name": "python",
   "nbconvert_exporter": "python",
   "pygments_lexer": "ipython3",
   "version": "3.11.5"
  }
 },
 "nbformat": 4,
 "nbformat_minor": 5
}
